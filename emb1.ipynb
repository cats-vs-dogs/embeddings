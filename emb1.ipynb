{
 "cells": [
  {
   "cell_type": "code",
   "execution_count": 1,
   "id": "77ab2373-7f9e-4b4a-90f2-f13bc94b32ae",
   "metadata": {
    "execution": {
     "iopub.execute_input": "2023-06-29T08:13:02.385177Z",
     "iopub.status.busy": "2023-06-29T08:13:02.384781Z",
     "iopub.status.idle": "2023-06-29T08:13:06.134190Z",
     "shell.execute_reply": "2023-06-29T08:13:06.133482Z",
     "shell.execute_reply.started": "2023-06-29T08:13:02.385150Z"
    },
    "tags": []
   },
   "outputs": [],
   "source": [
    "import torch\n",
    "from transformers import BertTokenizer, BertModel"
   ]
  },
  {
   "cell_type": "code",
   "execution_count": 2,
   "id": "e444a118-6e2f-49dc-b849-d96f3df6c425",
   "metadata": {
    "execution": {
     "iopub.execute_input": "2023-06-29T08:13:14.174853Z",
     "iopub.status.busy": "2023-06-29T08:13:14.174367Z",
     "iopub.status.idle": "2023-06-29T08:13:14.261658Z",
     "shell.execute_reply": "2023-06-29T08:13:14.261054Z",
     "shell.execute_reply.started": "2023-06-29T08:13:14.174825Z"
    },
    "tags": []
   },
   "outputs": [],
   "source": [
    "tokenizer = BertTokenizer.from_pretrained('bert-base-uncased')"
   ]
  },
  {
   "cell_type": "code",
   "execution_count": 3,
   "id": "d1ad560e-cc99-468c-a8a9-4a6d1c9e5c2d",
   "metadata": {
    "execution": {
     "iopub.execute_input": "2023-06-29T08:13:26.405146Z",
     "iopub.status.busy": "2023-06-29T08:13:26.404759Z",
     "iopub.status.idle": "2023-06-29T08:13:26.409086Z",
     "shell.execute_reply": "2023-06-29T08:13:26.408221Z",
     "shell.execute_reply.started": "2023-06-29T08:13:26.405119Z"
    },
    "tags": []
   },
   "outputs": [],
   "source": [
    "text = \"\"\"Hold fast to dreams, for if dreams die, life is a broken-winged bird that cannot fly.\"\"\""
   ]
  },
  {
   "cell_type": "code",
   "execution_count": 4,
   "id": "29f036d6-709f-42c8-9ed4-ca5ad6cbdd9b",
   "metadata": {
    "execution": {
     "iopub.execute_input": "2023-06-29T08:13:39.903346Z",
     "iopub.status.busy": "2023-06-29T08:13:39.902856Z",
     "iopub.status.idle": "2023-06-29T08:13:39.909659Z",
     "shell.execute_reply": "2023-06-29T08:13:39.908902Z",
     "shell.execute_reply.started": "2023-06-29T08:13:39.903316Z"
    },
    "tags": []
   },
   "outputs": [
    {
     "name": "stdout",
     "output_type": "stream",
     "text": [
      "['hold', 'fast', 'to', 'dreams', ',', 'for', 'if', 'dreams', 'die', ',', 'life', 'is', 'a', 'broken', '-', 'winged', 'bird', 'that', 'cannot', 'fly', '.']\n"
     ]
    }
   ],
   "source": [
    "tokenized_text = tokenizer.tokenize(text)\n",
    "print (tokenized_text)"
   ]
  },
  {
   "cell_type": "code",
   "execution_count": null,
   "id": "45f6448c-f9eb-4c93-8721-67455d469041",
   "metadata": {},
   "outputs": [],
   "source": []
  }
 ],
 "metadata": {
  "kernelspec": {
   "display_name": "saturn (Python 3)",
   "language": "python",
   "name": "python3"
  },
  "language_info": {
   "codemirror_mode": {
    "name": "ipython",
    "version": 3
   },
   "file_extension": ".py",
   "mimetype": "text/x-python",
   "name": "python",
   "nbconvert_exporter": "python",
   "pygments_lexer": "ipython3",
   "version": "3.9.15"
  }
 },
 "nbformat": 4,
 "nbformat_minor": 5
}
